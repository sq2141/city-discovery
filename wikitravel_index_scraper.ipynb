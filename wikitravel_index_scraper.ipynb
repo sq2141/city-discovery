{
 "cells": [
  {
   "cell_type": "code",
   "execution_count": 1,
   "metadata": {},
   "outputs": [],
   "source": [
    "import requests\n",
    "import lxml\n",
    "import bs4\n",
    "from bs4 import BeautifulSoup\n",
    "import re\n",
    "import pandas as pd"
   ]
  },
  {
   "cell_type": "code",
   "execution_count": 2,
   "metadata": {},
   "outputs": [],
   "source": [
    "# Cities with >100k population\n",
    "cities_page = 'https://wikitravel.org/en/Wikitravel:World_cities'"
   ]
  },
  {
   "cell_type": "code",
   "execution_count": 3,
   "metadata": {
    "scrolled": false
   },
   "outputs": [],
   "source": [
    "page = requests.get(cities_page)\n",
    "soup = BeautifulSoup(page.text, 'html5lib')\n",
    "body = soup.find('body')"
   ]
  },
  {
   "cell_type": "code",
   "execution_count": 4,
   "metadata": {
    "scrolled": false
   },
   "outputs": [],
   "source": [
    "countries = []\n",
    "cities = []\n",
    "cities_URL = []\n",
    "\n",
    "curr_country = 'Afghanistan' # Initialize w/ Afgh.\n",
    "prev_title = 'Afghanistan' # Initialize w/ Afgh.\n",
    "counter = 0\n",
    "rows_to_del = []\n",
    "\n",
    "# Loop through links\n",
    "for item in body.find_all('a', href=True): \n",
    "    if '#' in str(item): # Skip Table of Contents\n",
    "        continue\n",
    "    if \"does not exist\" in str(item): # Skip pages that do not exist\n",
    "        continue\n",
    "    if \"external autonumber\" in str(item): # Skip other irrelevant links\n",
    "        continue\n",
    "    if \"Mutare\" in str(item): # Stop after final city\n",
    "        break \n",
    "        \n",
    "    # If a new country was started\n",
    "    if \"Edit section\" in str(item):\n",
    "        curr_country = prev_title # Switch to new country\n",
    "        rows_to_del.append(counter-1)\n",
    "        continue # and don't append this line\n",
    "    \n",
    "    # Save current title\n",
    "    prev_title = item['title']\n",
    "    \n",
    "    # Append data to list\n",
    "    cities_URL.append([counter,curr_country,(item['title']),('wikitravel.org'+item['href'])])\n",
    "    counter+=1"
   ]
  },
  {
   "cell_type": "code",
   "execution_count": 5,
   "metadata": {
    "scrolled": true
   },
   "outputs": [],
   "source": [
    "# Convert to pandas df\n",
    "cities_URL_df_raw = pd.DataFrame(cities_URL)\n",
    "cities_URL_df = cities_URL_df_raw.drop(rows_to_del)"
   ]
  },
  {
   "cell_type": "code",
   "execution_count": 6,
   "metadata": {},
   "outputs": [],
   "source": [
    "cities_URL_df.reset_index(inplace=True)"
   ]
  },
  {
   "cell_type": "code",
   "execution_count": 7,
   "metadata": {},
   "outputs": [],
   "source": [
    "cities_URL_df = cities_URL_df.iloc[:,2:5]"
   ]
  },
  {
   "cell_type": "code",
   "execution_count": 8,
   "metadata": {},
   "outputs": [
    {
     "data": {
      "text/html": [
       "<div>\n",
       "<style scoped>\n",
       "    .dataframe tbody tr th:only-of-type {\n",
       "        vertical-align: middle;\n",
       "    }\n",
       "\n",
       "    .dataframe tbody tr th {\n",
       "        vertical-align: top;\n",
       "    }\n",
       "\n",
       "    .dataframe thead th {\n",
       "        text-align: right;\n",
       "    }\n",
       "</style>\n",
       "<table border=\"1\" class=\"dataframe\">\n",
       "  <thead>\n",
       "    <tr style=\"text-align: right;\">\n",
       "      <th></th>\n",
       "      <th>1</th>\n",
       "      <th>2</th>\n",
       "      <th>3</th>\n",
       "    </tr>\n",
       "  </thead>\n",
       "  <tbody>\n",
       "    <tr>\n",
       "      <th>0</th>\n",
       "      <td>Afghanistan</td>\n",
       "      <td>Herat</td>\n",
       "      <td>wikitravel.org/en/Herat</td>\n",
       "    </tr>\n",
       "    <tr>\n",
       "      <th>1</th>\n",
       "      <td>Afghanistan</td>\n",
       "      <td>Kabul</td>\n",
       "      <td>wikitravel.org/en/Kabul</td>\n",
       "    </tr>\n",
       "    <tr>\n",
       "      <th>2</th>\n",
       "      <td>Afghanistan</td>\n",
       "      <td>Jalalabad</td>\n",
       "      <td>wikitravel.org/en/Jalalabad</td>\n",
       "    </tr>\n",
       "    <tr>\n",
       "      <th>3</th>\n",
       "      <td>Afghanistan</td>\n",
       "      <td>Kandahar</td>\n",
       "      <td>wikitravel.org/en/Kandahar</td>\n",
       "    </tr>\n",
       "    <tr>\n",
       "      <th>4</th>\n",
       "      <td>Afghanistan</td>\n",
       "      <td>Kunduz</td>\n",
       "      <td>wikitravel.org/en/Kunduz</td>\n",
       "    </tr>\n",
       "  </tbody>\n",
       "</table>\n",
       "</div>"
      ],
      "text/plain": [
       "             1          2                            3\n",
       "0  Afghanistan      Herat      wikitravel.org/en/Herat\n",
       "1  Afghanistan      Kabul      wikitravel.org/en/Kabul\n",
       "2  Afghanistan  Jalalabad  wikitravel.org/en/Jalalabad\n",
       "3  Afghanistan   Kandahar   wikitravel.org/en/Kandahar\n",
       "4  Afghanistan     Kunduz     wikitravel.org/en/Kunduz"
      ]
     },
     "execution_count": 8,
     "metadata": {},
     "output_type": "execute_result"
    }
   ],
   "source": [
    "cities_URL_df.head()"
   ]
  },
  {
   "cell_type": "code",
   "execution_count": 9,
   "metadata": {},
   "outputs": [],
   "source": [
    "cities_URL_df.to_csv('wikitravel_city_URLs.csv')"
   ]
  }
 ],
 "metadata": {
  "kernelspec": {
   "display_name": "Python 3",
   "language": "python",
   "name": "python3"
  },
  "language_info": {
   "codemirror_mode": {
    "name": "ipython",
    "version": 3
   },
   "file_extension": ".py",
   "mimetype": "text/x-python",
   "name": "python",
   "nbconvert_exporter": "python",
   "pygments_lexer": "ipython3",
   "version": "3.7.0"
  }
 },
 "nbformat": 4,
 "nbformat_minor": 2
}
