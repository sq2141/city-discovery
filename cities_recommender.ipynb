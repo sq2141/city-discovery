{
 "cells": [
  {
   "cell_type": "code",
   "execution_count": 1,
   "metadata": {},
   "outputs": [],
   "source": [
    "import pandas as pd"
   ]
  },
  {
   "cell_type": "code",
   "execution_count": 2,
   "metadata": {},
   "outputs": [],
   "source": [
    "cities = pd.read_csv('cities_text_processed_df.csv', index_col = 0 )\n",
    "cosims_df = pd.read_csv('data/cos_sims.csv', index_col = 0)"
   ]
  },
  {
   "cell_type": "code",
   "execution_count": 16,
   "metadata": {},
   "outputs": [],
   "source": [
    "# Take user input and output 10 city recommendations\n",
    "input_city = 'New York City'\n",
    "input_index = cities.index[cities['City']==input_city][0] # Get index of input\n",
    "input_sims = pd.DataFrame(cosims_df.loc[input_index]) # Get sims for input city\n",
    "sims_sorted = input_sims.sort_values(by=input_index, ascending=False) # Sort sims\n",
    "sims_top10 = sims_sorted.iloc[1:11]\n",
    "top10_index = sims_top10.index\n",
    "top10_cities = cities.iloc[top10_index][['City','Country','Lat','Lon']]"
   ]
  },
  {
   "cell_type": "code",
   "execution_count": 17,
   "metadata": {},
   "outputs": [
    {
     "data": {
      "text/html": [
       "<div>\n",
       "<style scoped>\n",
       "    .dataframe tbody tr th:only-of-type {\n",
       "        vertical-align: middle;\n",
       "    }\n",
       "\n",
       "    .dataframe tbody tr th {\n",
       "        vertical-align: top;\n",
       "    }\n",
       "\n",
       "    .dataframe thead th {\n",
       "        text-align: right;\n",
       "    }\n",
       "</style>\n",
       "<table border=\"1\" class=\"dataframe\">\n",
       "  <thead>\n",
       "    <tr style=\"text-align: right;\">\n",
       "      <th></th>\n",
       "      <th>City</th>\n",
       "      <th>Country</th>\n",
       "      <th>Lat</th>\n",
       "      <th>Lon</th>\n",
       "    </tr>\n",
       "  </thead>\n",
       "  <tbody>\n",
       "    <tr>\n",
       "      <th>2509</th>\n",
       "      <td>Lubbock</td>\n",
       "      <td>United States</td>\n",
       "      <td>33.577863</td>\n",
       "      <td>-101.855164</td>\n",
       "    </tr>\n",
       "    <tr>\n",
       "      <th>2549</th>\n",
       "      <td>Pittsburgh</td>\n",
       "      <td>United States</td>\n",
       "      <td>40.440625</td>\n",
       "      <td>-79.995888</td>\n",
       "    </tr>\n",
       "    <tr>\n",
       "      <th>2386</th>\n",
       "      <td>York</td>\n",
       "      <td>United Kingdom</td>\n",
       "      <td>53.966667</td>\n",
       "      <td>-1.083333</td>\n",
       "    </tr>\n",
       "    <tr>\n",
       "      <th>1670</th>\n",
       "      <td>Leiden</td>\n",
       "      <td>Netherlands</td>\n",
       "      <td>52.158333</td>\n",
       "      <td>4.493056</td>\n",
       "    </tr>\n",
       "    <tr>\n",
       "      <th>2300</th>\n",
       "      <td>Derry</td>\n",
       "      <td>United Kingdom</td>\n",
       "      <td>52.933333</td>\n",
       "      <td>-1.500000</td>\n",
       "    </tr>\n",
       "    <tr>\n",
       "      <th>2493</th>\n",
       "      <td>Kansas City</td>\n",
       "      <td>United States</td>\n",
       "      <td>39.099727</td>\n",
       "      <td>-94.578568</td>\n",
       "    </tr>\n",
       "    <tr>\n",
       "      <th>1225</th>\n",
       "      <td>Dublin</td>\n",
       "      <td>Ireland</td>\n",
       "      <td>53.333056</td>\n",
       "      <td>-6.248889</td>\n",
       "    </tr>\n",
       "    <tr>\n",
       "      <th>2306</th>\n",
       "      <td>Edinburgh</td>\n",
       "      <td>United Kingdom</td>\n",
       "      <td>55.950000</td>\n",
       "      <td>-3.200000</td>\n",
       "    </tr>\n",
       "    <tr>\n",
       "      <th>2494</th>\n",
       "      <td>Knoxville</td>\n",
       "      <td>United States</td>\n",
       "      <td>38.254238</td>\n",
       "      <td>-85.759407</td>\n",
       "    </tr>\n",
       "    <tr>\n",
       "      <th>2471</th>\n",
       "      <td>Grand Rapids</td>\n",
       "      <td>United States</td>\n",
       "      <td>45.901389</td>\n",
       "      <td>-123.502778</td>\n",
       "    </tr>\n",
       "  </tbody>\n",
       "</table>\n",
       "</div>"
      ],
      "text/plain": [
       "              City         Country        Lat         Lon\n",
       "2509       Lubbock   United States  33.577863 -101.855164\n",
       "2549    Pittsburgh   United States  40.440625  -79.995888\n",
       "2386          York  United Kingdom  53.966667   -1.083333\n",
       "1670        Leiden     Netherlands  52.158333    4.493056\n",
       "2300         Derry  United Kingdom  52.933333   -1.500000\n",
       "2493   Kansas City   United States  39.099727  -94.578568\n",
       "1225        Dublin         Ireland  53.333056   -6.248889\n",
       "2306     Edinburgh  United Kingdom  55.950000   -3.200000\n",
       "2494     Knoxville   United States  38.254238  -85.759407\n",
       "2471  Grand Rapids   United States  45.901389 -123.502778"
      ]
     },
     "execution_count": 17,
     "metadata": {},
     "output_type": "execute_result"
    }
   ],
   "source": [
    "top10_cities"
   ]
  }
 ],
 "metadata": {
  "kernelspec": {
   "display_name": "Python 3",
   "language": "python",
   "name": "python3"
  },
  "language_info": {
   "codemirror_mode": {
    "name": "ipython",
    "version": 3
   },
   "file_extension": ".py",
   "mimetype": "text/x-python",
   "name": "python",
   "nbconvert_exporter": "python",
   "pygments_lexer": "ipython3",
   "version": "3.7.0"
  }
 },
 "nbformat": 4,
 "nbformat_minor": 2
}
