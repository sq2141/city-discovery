{
 "cells": [
  {
   "cell_type": "code",
   "execution_count": 8,
   "metadata": {},
   "outputs": [],
   "source": [
    "from google_images_download import google_images_download\n",
    "import pandas as pd\n",
    "from IPython.display import clear_output"
   ]
  },
  {
   "cell_type": "code",
   "execution_count": 3,
   "metadata": {},
   "outputs": [],
   "source": [
    "cities = pd.read_csv('cities_text_processed_df.csv', index_col = 0)"
   ]
  },
  {
   "cell_type": "code",
   "execution_count": 4,
   "metadata": {},
   "outputs": [],
   "source": [
    "# Build query for google image search\n",
    "cities['Query'] = cities[\"City\"].map(str) + ' ' + cities[\"Country\"]"
   ]
  },
  {
   "cell_type": "code",
   "execution_count": 5,
   "metadata": {},
   "outputs": [],
   "source": [
    "# Build index column\n",
    "cities['my_index'] = cities.index"
   ]
  },
  {
   "cell_type": "code",
   "execution_count": 20,
   "metadata": {},
   "outputs": [],
   "source": [
    "def dl_img(row):\n",
    "    response = google_images_download.googleimagesdownload()   #class instantiation\n",
    "    arguments = {\"keywords\":row['Query'],\n",
    "             \"limit\":5,\n",
    "             \"format\":'jpg',\n",
    "             \"print_urls\":True,\n",
    "             \"aspect_ratio\":'wide',\n",
    "             \"output_directory\":\"data/dl-images/\",\n",
    "             \"type\":\"photo\",\n",
    "             \"image_directory\": str(row['my_index']),\n",
    "                }   #creating list of arguments\n",
    "    \n",
    "    \n",
    "    paths = response.download(arguments)   #passing the arguments to the function\n",
    "    print(paths)   #printing absolute paths of the downloaded images\n",
    "    clear_output(wait=True)"
   ]
  },
  {
   "cell_type": "code",
   "execution_count": 21,
   "metadata": {},
   "outputs": [
    {
     "data": {
      "text/plain": [
       "0       None\n",
       "1       None\n",
       "2       None\n",
       "3       None\n",
       "4       None\n",
       "5       None\n",
       "6       None\n",
       "7       None\n",
       "8       None\n",
       "9       None\n",
       "10      None\n",
       "11      None\n",
       "12      None\n",
       "13      None\n",
       "14      None\n",
       "15      None\n",
       "16      None\n",
       "17      None\n",
       "18      None\n",
       "19      None\n",
       "20      None\n",
       "21      None\n",
       "22      None\n",
       "23      None\n",
       "24      None\n",
       "25      None\n",
       "26      None\n",
       "27      None\n",
       "28      None\n",
       "29      None\n",
       "        ... \n",
       "2641    None\n",
       "2642    None\n",
       "2643    None\n",
       "2644    None\n",
       "2645    None\n",
       "2646    None\n",
       "2647    None\n",
       "2648    None\n",
       "2649    None\n",
       "2650    None\n",
       "2651    None\n",
       "2652    None\n",
       "2653    None\n",
       "2654    None\n",
       "2655    None\n",
       "2656    None\n",
       "2657    None\n",
       "2658    None\n",
       "2659    None\n",
       "2660    None\n",
       "2661    None\n",
       "2662    None\n",
       "2663    None\n",
       "2664    None\n",
       "2665    None\n",
       "2666    None\n",
       "2667    None\n",
       "2668    None\n",
       "2669    None\n",
       "2670    None\n",
       "Length: 2671, dtype: object"
      ]
     },
     "execution_count": 21,
     "metadata": {},
     "output_type": "execute_result"
    }
   ],
   "source": [
    "# Run download\n",
    "cities.apply(dl_img, axis=1)"
   ]
  },
  {
   "cell_type": "code",
   "execution_count": null,
   "metadata": {},
   "outputs": [],
   "source": []
  }
 ],
 "metadata": {
  "kernelspec": {
   "display_name": "Python 3",
   "language": "python",
   "name": "python3"
  },
  "language_info": {
   "codemirror_mode": {
    "name": "ipython",
    "version": 3
   },
   "file_extension": ".py",
   "mimetype": "text/x-python",
   "name": "python",
   "nbconvert_exporter": "python",
   "pygments_lexer": "ipython3",
   "version": "3.7.0"
  }
 },
 "nbformat": 4,
 "nbformat_minor": 2
}
