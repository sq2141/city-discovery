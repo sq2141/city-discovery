{
 "cells": [
  {
   "cell_type": "code",
   "execution_count": 2,
   "metadata": {},
   "outputs": [],
   "source": [
    "from google_images_download import google_images_download\n",
    "import pandas as pd\n",
    "from IPython.display import clear_output"
   ]
  },
  {
   "cell_type": "code",
   "execution_count": 3,
   "metadata": {},
   "outputs": [],
   "source": [
    "cities = pd.read_csv('cities_text_processed_df.csv', index_col = 0)"
   ]
  },
  {
   "cell_type": "code",
   "execution_count": 4,
   "metadata": {},
   "outputs": [],
   "source": [
    "# Build query for google image search\n",
    "cities['Query'] = cities[\"City\"].map(str) + ' ' + cities[\"Country\"]"
   ]
  },
  {
   "cell_type": "code",
   "execution_count": 5,
   "metadata": {},
   "outputs": [],
   "source": [
    "# Build index column\n",
    "cities['my_index'] = cities.index"
   ]
  },
  {
   "cell_type": "code",
   "execution_count": 7,
   "metadata": {},
   "outputs": [],
   "source": [
    "def dl_img(row):\n",
    "    response = google_images_download.googleimagesdownload()   #class instantiation\n",
    "    arguments = {\"keywords\":row['Query'],\n",
    "             \"limit\":20,\n",
    "             \"format\":'jpg',\n",
    "             \"print_urls\":True,\n",
    "             \"aspect_ratio\":'wide',\n",
    "             \"color_type\" : \"full-color\",\n",
    "             \"output_directory\":\"data/dl-images-2/\",\n",
    "             \"type\":\"photo\",\n",
    "             \"image_directory\": str(row['my_index']),\n",
    "             \"offset\":5\n",
    "                }   #creating list of arguments\n",
    "    \n",
    "    \n",
    "    paths = response.download(arguments)   #passing the arguments to the function\n",
    "    print(paths)   #printing absolute paths of the downloaded images\n",
    "    clear_output(wait=True)"
   ]
  },
  {
   "cell_type": "code",
   "execution_count": null,
   "metadata": {},
   "outputs": [
    {
     "name": "stdout",
     "output_type": "stream",
     "text": [
      "\n",
      "Item no.: 1 --> Item name = Valledupar Colombia\n",
      "Evaluating...\n",
      "Starting Download...\n",
      "Image URL: http://elturismoencolombia.com/en/wp-content/uploads/2017/06/valledupar_monumentos_cesar_travel_colombia.jpg\n",
      "Completed Image ====> 5. valledupar_monumentos_cesar_travel_colombia.jpg\n",
      "Image URL: http://carloselviajero.com/wp-content/uploads/2017/04/IMG_5601.jpg\n",
      "Completed Image ====> 6. img_5601.jpg\n",
      "Image URL: https://www.colombiatravelguide.net/images/valledupar_plaza_church.jpg\n",
      "Completed Image ====> 7. valledupar_plaza_church.jpg\n",
      "Image URL: https://i.pinimg.com/236x/6c/e0/cc/6ce0cc87a8dae9750319dcb1e9fd67be--bogota-cesar.jpg\n",
      "Completed Image ====> 8. 6ce0cc87a8dae9750319dcb1e9fd67be--bogota-cesar.jpg\n",
      "Image URL: http://destinosdeamerica.com/media/W1siZiIsInByb2R1Y3Rpb24vZGVzdGlub3MvNTc2Mi92YWxsZWR1cGFyLWltYWdlbi01MDB4Mzc1LmpwZWciXSxbInAiLCJ0aHVtYiIsIjU1MHg0MDAjYyJdXQ/valledupar.jpg?sha=e804f5fada3a58e1\n",
      "URLError on an image...trying next one... Error: HTTP Error 502: Bad Gateway\n",
      "Image URL: https://media-cdn.tripadvisor.com/media/photo-s/09/92/47/6f/paseo-vallenato-tour.jpg\n",
      "Completed Image ====> 9. paseo-vallenato-tour.jpg\n",
      "Image URL: https://media-cdn.tripadvisor.com/media/photo-s/04/03/29/fc/cesar-department.jpg\n",
      "Completed Image ====> 10. cesar-department.jpg\n",
      "Image URL: https://i.ytimg.com/vi/8PNF_nq9Pc4/hqdefault.jpg\n",
      "Completed Image ====> 11. hqdefault.jpg\n",
      "Image URL: http://www.quintopoder.com.co/wp-content/uploads/2015/04/R141102-114.jpg\n",
      "Completed Image ====> 12. r141102-114.jpg\n",
      "Image URL: https://www.maravillastereo.com/wp-content/uploads/2017/11/8_este_viernes_valledupar_se_vincula_a_la_estrategia_colombia_limpia.jpg\n",
      "Completed Image ====> 13. 8_este_viernes_valledupar_se_vincula_a_la_estrategia_colombia_limpia.jpg\n",
      "Image URL: http://elturismoencolombia.com/en/wp-content/uploads/2017/06/valledupar_poporos_cesar_travel_colombia.jpg\n"
     ]
    }
   ],
   "source": [
    "# Run download\n",
    "cities.apply(dl_img, axis=1)"
   ]
  },
  {
   "cell_type": "code",
   "execution_count": null,
   "metadata": {},
   "outputs": [],
   "source": []
  }
 ],
 "metadata": {
  "kernelspec": {
   "display_name": "Python 3",
   "language": "python",
   "name": "python3"
  },
  "language_info": {
   "codemirror_mode": {
    "name": "ipython",
    "version": 3
   },
   "file_extension": ".py",
   "mimetype": "text/x-python",
   "name": "python",
   "nbconvert_exporter": "python",
   "pygments_lexer": "ipython3",
   "version": "3.6.5"
  }
 },
 "nbformat": 4,
 "nbformat_minor": 2
}
