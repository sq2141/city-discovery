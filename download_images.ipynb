{
 "cells": [
  {
   "cell_type": "code",
   "execution_count": 7,
   "metadata": {},
   "outputs": [],
   "source": [
    "from google_images_download import google_images_download\n",
    "import pandas as pd\n",
    "from IPython.display import clear_output"
   ]
  },
  {
   "cell_type": "code",
   "execution_count": 8,
   "metadata": {},
   "outputs": [],
   "source": [
    "cities = pd.read_csv('cities_text_processed_df.csv', index_col = 0)"
   ]
  },
  {
   "cell_type": "code",
   "execution_count": 9,
   "metadata": {},
   "outputs": [],
   "source": [
    "# Build query for google image search\n",
    "cities['Query'] = cities[\"City\"].map(str) + ' ' + cities[\"Country\"]"
   ]
  },
  {
   "cell_type": "code",
   "execution_count": 10,
   "metadata": {},
   "outputs": [],
   "source": [
    "# Build index column\n",
    "cities['my_index'] = cities.index"
   ]
  },
  {
   "cell_type": "code",
   "execution_count": 11,
   "metadata": {},
   "outputs": [],
   "source": [
    "def dl_img(row):\n",
    "    response = google_images_download.googleimagesdownload()   #class instantiation\n",
    "    arguments = {\"keywords\":row['Query'],\n",
    "             \"limit\":20,\n",
    "             \"format\":'jpg',\n",
    "             \"print_urls\":True,\n",
    "             \"aspect_ratio\":'wide',\n",
    "             \"color_type\" : \"full-color\",\n",
    "             \"output_directory\":\"data/dl-images-2/\",\n",
    "             \"type\":\"photo\",\n",
    "             \"image_directory\": str(row['my_index']),\n",
    "             \"offset\":5\n",
    "                }   #creating list of arguments\n",
    "    \n",
    "    \n",
    "    paths = response.download(arguments)   #passing the arguments to the function\n",
    "    print(paths)   #printing absolute paths of the downloaded images\n",
    "    clear_output(wait=True)"
   ]
  },
  {
   "cell_type": "code",
   "execution_count": null,
   "metadata": {},
   "outputs": [
    {
     "name": "stdout",
     "output_type": "stream",
     "text": [
      "\n",
      "Item no.: 1 --> Item name = Nashik India\n",
      "Evaluating...\n",
      "Starting Download...\n",
      "Image URL: https://www.globetrove.com/wp-content/uploads/2018/02/Road-Trip-to-Nashik.jpg\n",
      "Completed Image ====> 5. road-trip-to-nashik.jpg\n",
      "Image URL: https://c8.alamy.com/comp/C501W3/india-maharashtra-nashik-ritual-bathing-in-the-holy-the-godavari-river-C501W3.jpg\n",
      "Completed Image ====> 6. india-maharashtra-nashik-ritual-bathing-in-the-holy-the-godavari-river-c501w3.jpg\n",
      "Image URL: http://www.noblehousetours.com/wp-content/uploads/2017/11/nashik-kumbh-mela.jpg\n",
      "Completed Image ====> 7. nashik-kumbh-mela.jpg\n",
      "Image URL: https://image3.mouthshut.com/images/imagesp/925640629s.jpg\n"
     ]
    }
   ],
   "source": [
    "# Run download\n",
    "cities.iloc[737:,:].apply(dl_img, axis=1)"
   ]
  },
  {
   "cell_type": "code",
   "execution_count": null,
   "metadata": {},
   "outputs": [],
   "source": []
  }
 ],
 "metadata": {
  "kernelspec": {
   "display_name": "Python 3",
   "language": "python",
   "name": "python3"
  },
  "language_info": {
   "codemirror_mode": {
    "name": "ipython",
    "version": 3
   },
   "file_extension": ".py",
   "mimetype": "text/x-python",
   "name": "python",
   "nbconvert_exporter": "python",
   "pygments_lexer": "ipython3",
   "version": "3.6.5"
  }
 },
 "nbformat": 4,
 "nbformat_minor": 2
}
