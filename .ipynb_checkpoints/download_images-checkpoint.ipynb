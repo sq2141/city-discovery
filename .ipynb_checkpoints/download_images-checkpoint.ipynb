{
 "cells": [
  {
   "cell_type": "code",
   "execution_count": 7,
   "metadata": {},
   "outputs": [],
   "source": [
    "from google_images_download import google_images_download\n",
    "import pandas as pd\n",
    "from IPython.display import clear_output"
   ]
  },
  {
   "cell_type": "code",
   "execution_count": 8,
   "metadata": {},
   "outputs": [],
   "source": [
    "cities = pd.read_csv('cities_text_processed_df.csv', index_col = 0)"
   ]
  },
  {
   "cell_type": "code",
   "execution_count": 9,
   "metadata": {},
   "outputs": [],
   "source": [
    "# Build query for google image search\n",
    "cities['Query'] = cities[\"City\"].map(str) + ' ' + cities[\"Country\"]"
   ]
  },
  {
   "cell_type": "code",
   "execution_count": 10,
   "metadata": {},
   "outputs": [],
   "source": [
    "# Build index column\n",
    "cities['my_index'] = cities.index"
   ]
  },
  {
   "cell_type": "code",
   "execution_count": 11,
   "metadata": {},
   "outputs": [],
   "source": [
    "def dl_img(row):\n",
    "    response = google_images_download.googleimagesdownload()   #class instantiation\n",
    "    arguments = {\"keywords\":row['Query'],\n",
    "             \"limit\":20,\n",
    "             \"format\":'jpg',\n",
    "             \"print_urls\":True,\n",
    "             \"aspect_ratio\":'wide',\n",
    "             \"color_type\" : \"full-color\",\n",
    "             \"output_directory\":\"data/dl-images-2/\",\n",
    "             \"type\":\"photo\",\n",
    "             \"image_directory\": str(row['my_index']),\n",
    "             \"offset\":5\n",
    "                }   #creating list of arguments\n",
    "    \n",
    "    \n",
    "    paths = response.download(arguments)   #passing the arguments to the function\n",
    "    print(paths)   #printing absolute paths of the downloaded images\n",
    "    clear_output(wait=True)"
   ]
  },
  {
   "cell_type": "code",
   "execution_count": 12,
   "metadata": {},
   "outputs": [
    {
     "data": {
      "text/plain": [
       "737     None\n",
       "738     None\n",
       "739     None\n",
       "740     None\n",
       "741     None\n",
       "742     None\n",
       "743     None\n",
       "744     None\n",
       "745     None\n",
       "746     None\n",
       "747     None\n",
       "748     None\n",
       "749     None\n",
       "750     None\n",
       "751     None\n",
       "752     None\n",
       "753     None\n",
       "754     None\n",
       "755     None\n",
       "756     None\n",
       "757     None\n",
       "758     None\n",
       "759     None\n",
       "760     None\n",
       "761     None\n",
       "762     None\n",
       "763     None\n",
       "764     None\n",
       "765     None\n",
       "766     None\n",
       "        ... \n",
       "2641    None\n",
       "2642    None\n",
       "2643    None\n",
       "2644    None\n",
       "2645    None\n",
       "2646    None\n",
       "2647    None\n",
       "2648    None\n",
       "2649    None\n",
       "2650    None\n",
       "2651    None\n",
       "2652    None\n",
       "2653    None\n",
       "2654    None\n",
       "2655    None\n",
       "2656    None\n",
       "2657    None\n",
       "2658    None\n",
       "2659    None\n",
       "2660    None\n",
       "2661    None\n",
       "2662    None\n",
       "2663    None\n",
       "2664    None\n",
       "2665    None\n",
       "2666    None\n",
       "2667    None\n",
       "2668    None\n",
       "2669    None\n",
       "2670    None\n",
       "Length: 1934, dtype: object"
      ]
     },
     "execution_count": 12,
     "metadata": {},
     "output_type": "execute_result"
    }
   ],
   "source": [
    "# Run download\n",
    "cities.iloc[737:,:].apply(dl_img, axis=1)"
   ]
  }
 ],
 "metadata": {
  "kernelspec": {
   "display_name": "Python 3",
   "language": "python",
   "name": "python3"
  },
  "language_info": {
   "codemirror_mode": {
    "name": "ipython",
    "version": 3
   },
   "file_extension": ".py",
   "mimetype": "text/x-python",
   "name": "python",
   "nbconvert_exporter": "python",
   "pygments_lexer": "ipython3",
   "version": "3.6.5"
  }
 },
 "nbformat": 4,
 "nbformat_minor": 2
}
